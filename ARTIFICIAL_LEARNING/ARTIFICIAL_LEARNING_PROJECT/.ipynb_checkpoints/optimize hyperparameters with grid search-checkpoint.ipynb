{
 "cells": [
  {
   "cell_type": "code",
   "execution_count": 1,
   "id": "573f985c",
   "metadata": {},
   "outputs": [],
   "source": [
    "import pandas as pd\n",
    "import numpy as np\n",
    "import matplotlib.pyplot as plt\n",
    "from sklearn.model_selection import train_test_split\n",
    "from sklearn.ensemble import RandomForestClassifier"
   ]
  },
  {
   "cell_type": "code",
   "execution_count": null,
   "id": "c9336268",
   "metadata": {},
   "outputs": [],
   "source": [
    "import pathlib\n",
    "root = str(pathlib.Path().absolute())"
   ]
  },
  {
   "cell_type": "code",
   "execution_count": 2,
   "id": "c6e15260",
   "metadata": {},
   "outputs": [],
   "source": [
    "data = pd.read_csv(\"chiago-stats-preprocessed.csv\")"
   ]
  },
  {
   "cell_type": "code",
   "execution_count": 3,
   "id": "ff97b078",
   "metadata": {},
   "outputs": [
    {
     "data": {
      "text/html": [
       "<div>\n",
       "<style scoped>\n",
       "    .dataframe tbody tr th:only-of-type {\n",
       "        vertical-align: middle;\n",
       "    }\n",
       "\n",
       "    .dataframe tbody tr th {\n",
       "        vertical-align: top;\n",
       "    }\n",
       "\n",
       "    .dataframe thead th {\n",
       "        text-align: right;\n",
       "    }\n",
       "</style>\n",
       "<table border=\"1\" class=\"dataframe\">\n",
       "  <thead>\n",
       "    <tr style=\"text-align: right;\">\n",
       "      <th></th>\n",
       "      <th>block-pct-last-1</th>\n",
       "      <th>defensive-efficiency-last-1</th>\n",
       "      <th>offensive-efficiency-last-1</th>\n",
       "      <th>steal-pct-last-1</th>\n",
       "      <th>total-rebounds-per-game-last-1</th>\n",
       "      <th>true-shooting-percentage-last-1</th>\n",
       "      <th>turnover-pct-last-1</th>\n",
       "      <th>year</th>\n",
       "      <th>month</th>\n",
       "      <th>day</th>\n",
       "      <th>changes_of_win_rating</th>\n",
       "    </tr>\n",
       "  </thead>\n",
       "  <tbody>\n",
       "    <tr>\n",
       "      <th>0</th>\n",
       "      <td>7.1</td>\n",
       "      <td>0.945</td>\n",
       "      <td>0.841</td>\n",
       "      <td>12.0</td>\n",
       "      <td>59.0</td>\n",
       "      <td>79.0</td>\n",
       "      <td>9.9</td>\n",
       "      <td>2013</td>\n",
       "      <td>1</td>\n",
       "      <td>1</td>\n",
       "      <td>0</td>\n",
       "    </tr>\n",
       "    <tr>\n",
       "      <th>1</th>\n",
       "      <td>7.1</td>\n",
       "      <td>0.945</td>\n",
       "      <td>0.841</td>\n",
       "      <td>12.0</td>\n",
       "      <td>59.0</td>\n",
       "      <td>79.0</td>\n",
       "      <td>9.9</td>\n",
       "      <td>2013</td>\n",
       "      <td>1</td>\n",
       "      <td>2</td>\n",
       "      <td>0</td>\n",
       "    </tr>\n",
       "    <tr>\n",
       "      <th>2</th>\n",
       "      <td>6.4</td>\n",
       "      <td>1.071</td>\n",
       "      <td>1.094</td>\n",
       "      <td>7.3</td>\n",
       "      <td>44.0</td>\n",
       "      <td>108.0</td>\n",
       "      <td>7.2</td>\n",
       "      <td>2013</td>\n",
       "      <td>1</td>\n",
       "      <td>3</td>\n",
       "      <td>1</td>\n",
       "    </tr>\n",
       "    <tr>\n",
       "      <th>3</th>\n",
       "      <td>6.4</td>\n",
       "      <td>1.071</td>\n",
       "      <td>1.094</td>\n",
       "      <td>7.3</td>\n",
       "      <td>44.0</td>\n",
       "      <td>108.0</td>\n",
       "      <td>7.2</td>\n",
       "      <td>2013</td>\n",
       "      <td>1</td>\n",
       "      <td>4</td>\n",
       "      <td>1</td>\n",
       "    </tr>\n",
       "    <tr>\n",
       "      <th>4</th>\n",
       "      <td>3.1</td>\n",
       "      <td>1.016</td>\n",
       "      <td>1.096</td>\n",
       "      <td>7.6</td>\n",
       "      <td>54.0</td>\n",
       "      <td>105.0</td>\n",
       "      <td>14.1</td>\n",
       "      <td>2013</td>\n",
       "      <td>1</td>\n",
       "      <td>5</td>\n",
       "      <td>1</td>\n",
       "    </tr>\n",
       "  </tbody>\n",
       "</table>\n",
       "</div>"
      ],
      "text/plain": [
       "   block-pct-last-1  defensive-efficiency-last-1  offensive-efficiency-last-1  \\\n",
       "0               7.1                        0.945                        0.841   \n",
       "1               7.1                        0.945                        0.841   \n",
       "2               6.4                        1.071                        1.094   \n",
       "3               6.4                        1.071                        1.094   \n",
       "4               3.1                        1.016                        1.096   \n",
       "\n",
       "   steal-pct-last-1  total-rebounds-per-game-last-1  \\\n",
       "0              12.0                            59.0   \n",
       "1              12.0                            59.0   \n",
       "2               7.3                            44.0   \n",
       "3               7.3                            44.0   \n",
       "4               7.6                            54.0   \n",
       "\n",
       "   true-shooting-percentage-last-1  turnover-pct-last-1  year  month  day  \\\n",
       "0                             79.0                  9.9  2013      1    1   \n",
       "1                             79.0                  9.9  2013      1    2   \n",
       "2                            108.0                  7.2  2013      1    3   \n",
       "3                            108.0                  7.2  2013      1    4   \n",
       "4                            105.0                 14.1  2013      1    5   \n",
       "\n",
       "   changes_of_win_rating  \n",
       "0                      0  \n",
       "1                      0  \n",
       "2                      1  \n",
       "3                      1  \n",
       "4                      1  "
      ]
     },
     "execution_count": 3,
     "metadata": {},
     "output_type": "execute_result"
    }
   ],
   "source": [
    "data.head()"
   ]
  },
  {
   "cell_type": "code",
   "execution_count": 4,
   "id": "39b40780",
   "metadata": {},
   "outputs": [],
   "source": [
    "X = data.iloc[:,:-1].values\n",
    "y = data[\"changes_of_win_rating\"]"
   ]
  },
  {
   "cell_type": "code",
   "execution_count": 5,
   "id": "71375f49",
   "metadata": {},
   "outputs": [],
   "source": [
    "X_train, X_test, y_train, y_test = train_test_split(X, y, test_size=0.5, random_state=15)"
   ]
  },
  {
   "cell_type": "code",
   "execution_count": 6,
   "id": "0c680979",
   "metadata": {},
   "outputs": [],
   "source": [
    "def dic2bar(title, dic):\n",
    "    keys = dic.keys()\n",
    "    values = dic.values()\n",
    "    plt.xticks(rotation=90)\n",
    "    plt.title(title)\n",
    "    plt.bar(keys, values)\n",
    "    plt.show()"
   ]
  },
  {
   "cell_type": "code",
   "execution_count": 7,
   "id": "78a225f8",
   "metadata": {},
   "outputs": [],
   "source": [
    "DecisionTreeClassifierHP = {\n",
    "    \"criterion\": [\"gini\", \"entropy\"],\n",
    "    \"splitter\": [\"best\", \"random\"],\n",
    "    \"max_depth\": [1, 2, 3, 4, 5, 6],\n",
    "    \"min_samples_split\": [3, 4, 5, 6, 7, 8, 9],\n",
    "    \"min_samples_leaf\": [1, 2, 3, 4, 5, 6],\n",
    "    \"max_features\": [\"auto\", \"sqrt\", \"log2\", None]\n",
    "}\n",
    "\n",
    "RandomForestHP = {\n",
    "    \"n_estimators\": [20, 40, 60, 80, 100],\n",
    "    \"criterion\": [\"gini\", \"entropy\"],\n",
    "    \"max_depth\": [2, 4, 6],\n",
    "    \"min_samples_split\": [3, 6, 9],\n",
    "    \"min_samples_leaf\": [2, 4, 6],\n",
    "    \"max_features\": [\"auto\", \"sqrt\", \"log2\"]\n",
    "}\n",
    "\n",
    "KNeighborsClassifierHP = {\n",
    "    \"n_neighbors\": [3, 4, 5, 6, 7, 8],\n",
    "    \"weights\":  [\"uniform\", \"distance\"],\n",
    "    \"algorithm\": [\"auto\", \"ball_tree\", \"kd_tree\", \"brute\"]\n",
    "}"
   ]
  },
  {
   "cell_type": "code",
   "execution_count": 8,
   "id": "1be6a370",
   "metadata": {},
   "outputs": [
    {
     "name": "stderr",
     "output_type": "stream",
     "text": [
      "C:\\Users\\Soner\\anaconda3\\lib\\site-packages\\sklearn\\model_selection\\_split.py:666: UserWarning: The least populated class in y has only 1 members, which is less than n_splits=20.\n",
      "  warnings.warn((\"The least populated class in y has only %d\"\n"
     ]
    },
    {
     "data": {
      "text/plain": [
       "RandomForestClassifier(criterion='entropy', max_depth=6, max_features='sqrt',\n",
       "                       min_samples_leaf=2, min_samples_split=9,\n",
       "                       n_estimators=80)"
      ]
     },
     "execution_count": 8,
     "metadata": {},
     "output_type": "execute_result"
    }
   ],
   "source": [
    "from sklearn.metrics import make_scorer\n",
    "from sklearn.model_selection import GridSearchCV\n",
    "from sklearn.svm import SVC\n",
    "\n",
    "clf = RandomForestClassifier()\n",
    "\n",
    "# Create the parameters list we wish to tune.\n",
    "parameters = RandomForestHP\n",
    "\n",
    "# Make a f1_score scoring object.\n",
    "\n",
    "# Perform grid search on the classifier using 'scorer' as the scoring method.\n",
    "# Create the object.\n",
    "grid_obj = GridSearchCV(clf, parameters, cv=20, scoring = 'accuracy')\n",
    "\n",
    "# Fit the grid search object to the training data and find the optimal parameters.\n",
    "# Fit the data\n",
    "grid_fit = grid_obj.fit(X_train, y_train)\n",
    "\n",
    "# Get the estimator.\n",
    "best_clf = grid_fit.best_estimator_\n",
    "\n",
    "# Fit the new model.\n",
    "best_clf.fit(X_train, y_train)\n",
    "\n",
    "# Make predictions using the new model.\n",
    "best_train_predictions = best_clf.predict(X_train)\n",
    "best_test_predictions = best_clf.predict(X_test)\n",
    "\n",
    "# Let's also explore what parameters ended up being used in the new model.\n",
    "best_clf"
   ]
  },
  {
   "cell_type": "code",
   "execution_count": 9,
   "id": "6aa8924f",
   "metadata": {},
   "outputs": [
    {
     "data": {
      "text/plain": [
       "0.9926754385964914"
      ]
     },
     "execution_count": 9,
     "metadata": {},
     "output_type": "execute_result"
    }
   ],
   "source": [
    "grid_fit.best_score_"
   ]
  },
  {
   "cell_type": "code",
   "execution_count": 12,
   "id": "367b3d37",
   "metadata": {},
   "outputs": [
    {
     "data": {
      "text/plain": [
       "810"
      ]
     },
     "execution_count": 12,
     "metadata": {},
     "output_type": "execute_result"
    }
   ],
   "source": [
    "len(hyperparameters)"
   ]
  },
  {
   "cell_type": "code",
   "execution_count": 15,
   "id": "a67b876a",
   "metadata": {},
   "outputs": [],
   "source": [
    "hyperparameters = {}\n",
    "for i in range(len(grid_fit.cv_results_[\"mean_test_score\"])):\n",
    "    hyperparameters[str(grid_fit.cv_results_[\"params\"][i])] = grid_fit.cv_results_[\"mean_test_score\"][i]\n",
    "    #print(str(grid_fit.cv_results_[\"params\"][i]) +\": \"+ str(grid_fit.cv_results_[\"mean_test_score\"][i]))"
   ]
  },
  {
   "cell_type": "code",
   "execution_count": 17,
   "id": "578e82fb",
   "metadata": {
    "scrolled": true
   },
   "outputs": [],
   "source": [
    "hyperparameters_sorted = sorted(hyperparameters.items(), key=lambda x: -x[1])"
   ]
  },
  {
   "cell_type": "code",
   "execution_count": 20,
   "id": "a36f8e9f",
   "metadata": {},
   "outputs": [],
   "source": [
    "reversed_hp = {}\n",
    "for hyperparameter in hyperparameters_sorted[:10]:\n",
    "    reversed_hp[hyperparameter[0]] = hyperparameter[1]\n"
   ]
  },
  {
   "cell_type": "code",
   "execution_count": 30,
   "id": "ccdd5c01",
   "metadata": {},
   "outputs": [
    {
     "data": {
      "text/plain": [
       "(array([7., 0., 0., 0., 0., 1., 0., 1., 0., 1.]),\n",
       " array([0.99002632, 0.99029123, 0.99055614, 0.99082105, 0.99108596,\n",
       "        0.99135088, 0.99161579, 0.9918807 , 0.99214561, 0.99241053,\n",
       "        0.99267544]),\n",
       " <BarContainer object of 10 artists>)"
      ]
     },
     "execution_count": 30,
     "metadata": {},
     "output_type": "execute_result"
    },
    {
     "data": {
      "image/png": "[encoded data removed]",
      "text/plain": [
       "<Figure size 432x288 with 1 Axes>"
      ]
     },
     "metadata": {
      "needs_background": "light"
     },
     "output_type": "display_data"
    }
   ],
   "source": [
    "plt.title(\"histogram of hyperparameters accuracies\")\n",
    "plt.hist(reversed_hp.values())"
   ]
  },
  {
   "cell_type": "code",
   "execution_count": 28,
   "id": "3f831cc3",
   "metadata": {},
   "outputs": [
    {
     "data": {
      "image/png": "[encoded data removed]",
      "text/plain": [
       "<Figure size 432x288 with 1 Axes>"
      ]
     },
     "metadata": {
      "needs_background": "light"
     },
     "output_type": "display_data"
    }
   ],
   "source": [
    "dic2bar(\"hyperparameters accuracies\", reversed_hp)"
   ]
  },
  {
   "cell_type": "code",
   "execution_count": 29,
   "id": "c7074138",
   "metadata": {},
   "outputs": [
    {
     "data": {
      "text/plain": [
       "{\"{'criterion': 'entropy', 'max_depth': 6, 'max_features': 'sqrt', 'min_samples_leaf': 2, 'min_samples_split': 9, 'n_estimators': 80}\": 0.9926754385964914,\n",
       " \"{'criterion': 'gini', 'max_depth': 6, 'max_features': 'auto', 'min_samples_leaf': 2, 'min_samples_split': 9, 'n_estimators': 80}\": 0.9920175438596492,\n",
       " \"{'criterion': 'entropy', 'max_depth': 6, 'max_features': 'sqrt', 'min_samples_leaf': 2, 'min_samples_split': 3, 'n_estimators': 100}\": 0.9913508771929825,\n",
       " \"{'criterion': 'gini', 'max_depth': 6, 'max_features': 'auto', 'min_samples_leaf': 2, 'min_samples_split': 3, 'n_estimators': 60}\": 0.9900350877192983,\n",
       " \"{'criterion': 'gini', 'max_depth': 6, 'max_features': 'log2', 'min_samples_leaf': 2, 'min_samples_split': 3, 'n_estimators': 80}\": 0.9900350877192983,\n",
       " \"{'criterion': 'entropy', 'max_depth': 6, 'max_features': 'sqrt', 'min_samples_leaf': 4, 'min_samples_split': 6, 'n_estimators': 60}\": 0.9900350877192983,\n",
       " \"{'criterion': 'entropy', 'max_depth': 6, 'max_features': 'log2', 'min_samples_leaf': 2, 'min_samples_split': 6, 'n_estimators': 40}\": 0.9900350877192983,\n",
       " \"{'criterion': 'gini', 'max_depth': 6, 'max_features': 'log2', 'min_samples_leaf': 2, 'min_samples_split': 3, 'n_estimators': 100}\": 0.9900263157894738,\n",
       " \"{'criterion': 'entropy', 'max_depth': 6, 'max_features': 'sqrt', 'min_samples_leaf': 2, 'min_samples_split': 6, 'n_estimators': 80}\": 0.9900263157894738,\n",
       " \"{'criterion': 'entropy', 'max_depth': 6, 'max_features': 'auto', 'min_samples_leaf': 2, 'min_samples_split': 3, 'n_estimators': 40}\": 0.9900263157894736}"
      ]
     },
     "execution_count": 29,
     "metadata": {},
     "output_type": "execute_result"
    }
   ],
   "source": [
    "reversed_hp"
   ]
  },
  {
   "cell_type": "code",
   "execution_count": null,
   "id": "2d9ee114",
   "metadata": {},
   "outputs": [],
   "source": []
  }
 ],
 "metadata": {
  "kernelspec": {
   "display_name": "Python 3",
   "language": "python",
   "name": "python3"
  },
  "language_info": {
   "codemirror_mode": {
    "name": "ipython",
    "version": 3
   },
   "file_extension": ".py",
   "mimetype": "text/x-python",
   "name": "python",
   "nbconvert_exporter": "python",
   "pygments_lexer": "ipython3",
   "version": "3.8.8"
  }
 },
 "nbformat": 4,
 "nbformat_minor": 5
}
